{
 "cells": [
  {
   "cell_type": "code",
   "execution_count": 10,
   "metadata": {},
   "outputs": [],
   "source": [
    "import pandas as pd\n",
    "from sklearn.svm import SVC\n",
    "from sklearn.model_selection import train_test_split\n",
    "from sklearn.datasets import load_digits"
   ]
  },
  {
   "cell_type": "code",
   "execution_count": 11,
   "metadata": {},
   "outputs": [
    {
     "data": {
      "text/plain": [
       "['DESCR', 'data', 'images', 'target', 'target_names']"
      ]
     },
     "execution_count": 11,
     "metadata": {},
     "output_type": "execute_result"
    }
   ],
   "source": [
    "digits = load_digits()\n",
    "dir(digits)"
   ]
  },
  {
   "cell_type": "code",
   "execution_count": 12,
   "metadata": {},
   "outputs": [],
   "source": [
    "X = digits.data"
   ]
  },
  {
   "cell_type": "code",
   "execution_count": 13,
   "metadata": {},
   "outputs": [],
   "source": [
    "y = digits.target"
   ]
  },
  {
   "cell_type": "code",
   "execution_count": 14,
   "metadata": {},
   "outputs": [],
   "source": [
    "X_train,X_test,y_train,y_test = train_test_split(X,y,test_size=0.2)"
   ]
  },
  {
   "cell_type": "code",
   "execution_count": 15,
   "metadata": {},
   "outputs": [
    {
     "data": {
      "text/plain": [
       "SVC(C=1.0, break_ties=False, cache_size=200, class_weight=None, coef0=0.0,\n",
       "    decision_function_shape='ovr', degree=3, gamma='scale', kernel='rbf',\n",
       "    max_iter=-1, probability=False, random_state=None, shrinking=True,\n",
       "    tol=0.001, verbose=False)"
      ]
     },
     "execution_count": 15,
     "metadata": {},
     "output_type": "execute_result"
    }
   ],
   "source": [
    "model = SVC()\n",
    "model.fit(X_train,y_train)"
   ]
  },
  {
   "cell_type": "code",
   "execution_count": 16,
   "metadata": {},
   "outputs": [
    {
     "data": {
      "text/plain": [
       "array([0, 9, 7, 4, 7, 9, 6, 8, 4, 4, 2, 6, 1, 9, 3, 5, 8, 5, 0, 1, 5, 5,\n",
       "       4, 5, 7, 1, 5, 2, 6, 6, 8, 3, 3, 7, 6, 0, 3, 5, 8, 4, 6, 5, 2, 2,\n",
       "       4, 1, 3, 5, 2, 2, 8, 4, 6, 1, 2, 9, 2, 7, 3, 0, 4, 0, 7, 0, 2, 2,\n",
       "       6, 1, 9, 7, 0, 8, 5, 3, 2, 9, 8, 9, 8, 8, 0, 2, 6, 0, 5, 4, 0, 0,\n",
       "       2, 4, 9, 0, 4, 7, 4, 5, 6, 8, 6, 6, 6, 7, 1, 5, 6, 2, 6, 2, 9, 2,\n",
       "       8, 6, 0, 1, 7, 5, 3, 1, 4, 0, 6, 5, 2, 6, 3, 8, 0, 7, 1, 8, 1, 8,\n",
       "       5, 0, 2, 8, 2, 4, 3, 7, 2, 6, 3, 4, 5, 8, 9, 9, 0, 9, 7, 0, 9, 5,\n",
       "       7, 1, 7, 5, 5, 1, 3, 1, 4, 1, 9, 4, 1, 5, 3, 1, 6, 6, 3, 3, 7, 0,\n",
       "       2, 8, 2, 9, 6, 0, 9, 7, 4, 8, 2, 6, 0, 0, 0, 4, 7, 3, 5, 7, 3, 5,\n",
       "       6, 6, 0, 3, 0, 3, 6, 0, 0, 7, 0, 1, 4, 8, 4, 7, 0, 0, 6, 2, 0, 5,\n",
       "       7, 0, 9, 6, 9, 1, 5, 8, 0, 1, 9, 8, 7, 1, 9, 8, 1, 1, 4, 8, 1, 6,\n",
       "       3, 7, 9, 2, 9, 7, 4, 0, 7, 5, 1, 3, 7, 6, 3, 8, 0, 5, 3, 5, 1, 6,\n",
       "       9, 3, 6, 9, 3, 2, 5, 9, 9, 4, 4, 8, 8, 9, 1, 8, 0, 3, 6, 9, 4, 5,\n",
       "       3, 7, 8, 5, 1, 6, 6, 1, 9, 3, 8, 2, 9, 1, 1, 6, 5, 3, 8, 2, 1, 6,\n",
       "       3, 0, 7, 3, 0, 6, 3, 7, 7, 4, 8, 9, 4, 7, 2, 7, 6, 5, 6, 6, 9, 0,\n",
       "       8, 0, 4, 4, 6, 6, 2, 1, 3, 4, 1, 4, 4, 6, 6, 3, 7, 6, 4, 7, 6, 6,\n",
       "       5, 1, 5, 3, 2, 8, 0, 8])"
      ]
     },
     "execution_count": 16,
     "metadata": {},
     "output_type": "execute_result"
    }
   ],
   "source": [
    "model.predict(X_test)"
   ]
  },
  {
   "cell_type": "code",
   "execution_count": 17,
   "metadata": {},
   "outputs": [
    {
     "data": {
      "text/plain": [
       "0.9944444444444445"
      ]
     },
     "execution_count": 17,
     "metadata": {},
     "output_type": "execute_result"
    }
   ],
   "source": [
    "model.score(X_test,y_test)"
   ]
  },
  {
   "cell_type": "code",
   "execution_count": null,
   "metadata": {},
   "outputs": [],
   "source": []
  }
 ],
 "metadata": {
  "kernelspec": {
   "display_name": "Python 3",
   "language": "python",
   "name": "python3"
  },
  "language_info": {
   "codemirror_mode": {
    "name": "ipython",
    "version": 3
   },
   "file_extension": ".py",
   "mimetype": "text/x-python",
   "name": "python",
   "nbconvert_exporter": "python",
   "pygments_lexer": "ipython3",
   "version": "3.7.6"
  },
  "toc": {
   "base_numbering": 1,
   "nav_menu": {},
   "number_sections": true,
   "sideBar": true,
   "skip_h1_title": false,
   "title_cell": "Table of Contents",
   "title_sidebar": "Contents",
   "toc_cell": false,
   "toc_position": {},
   "toc_section_display": true,
   "toc_window_display": false
  }
 },
 "nbformat": 4,
 "nbformat_minor": 4
}
